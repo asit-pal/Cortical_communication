{
 "cells": [
  {
   "cell_type": "code",
   "execution_count": 15,
   "metadata": {},
   "outputs": [],
   "source": [
    "import scipy.io\n",
    "import numpy as np\n",
    "import matplotlib.pyplot as plt"
   ]
  },
  {
   "cell_type": "code",
   "execution_count": 16,
   "metadata": {},
   "outputs": [],
   "source": [
    "# Load the MATLAB file\n",
    "# fileloc = '../data/2019/105l001p16.mat' \n",
    "# fileloc = '../data/2019/106r001p26.mat'\n",
    "# fileloc = '../data/2019/106r002p70.mat'\n",
    "fileloc = '../data/2019/107l002p67.mat'\n",
    "# fileloc = '../data/2019/107l003p143.mat'\n",
    "matlab_data = scipy.io.loadmat(fileloc)"
   ]
  },
  {
   "cell_type": "code",
   "execution_count": 17,
   "metadata": {},
   "outputs": [
    {
     "data": {
      "text/plain": [
       "dict_keys(['__header__', '__version__', '__globals__', 'neuralData'])"
      ]
     },
     "execution_count": 17,
     "metadata": {},
     "output_type": "execute_result"
    }
   ],
   "source": [
    "# print the keys of the dictionary\n",
    "matlab_data.keys()"
   ]
  },
  {
   "cell_type": "code",
   "execution_count": 18,
   "metadata": {},
   "outputs": [],
   "source": [
    "stim = matlab_data['neuralData'][0, 0][1].squeeze()\n",
    "# remove the blank trials from stim\n",
    "stim = stim[::2]\n",
    "\n",
    "spikes1 = []\n",
    "spikes2 = []\n",
    "for i in range(len(stim)):\n",
    "    spikes1.append(matlab_data['neuralData'][0, 0][0][2*i, 0].toarray().astype(np.int8))\n",
    "    spikes2.append(matlab_data['neuralData'][0, 0][0][2*i, 1].toarray().astype(np.int8))"
   ]
  },
  {
   "cell_type": "code",
   "execution_count": 19,
   "metadata": {},
   "outputs": [
    {
     "data": {
      "text/plain": [
       "(97, 1280)"
      ]
     },
     "execution_count": 19,
     "metadata": {},
     "output_type": "execute_result"
    }
   ],
   "source": [
    "spikes1[0].shape"
   ]
  },
  {
   "cell_type": "code",
   "execution_count": 20,
   "metadata": {},
   "outputs": [],
   "source": [
    "spikes1= np.stack(spikes1)\n",
    "spikes2= np.stack(spikes2)"
   ]
  },
  {
   "cell_type": "code",
   "execution_count": 21,
   "metadata": {},
   "outputs": [
    {
     "data": {
      "text/plain": [
       "(3200, 97, 1280)"
      ]
     },
     "execution_count": 21,
     "metadata": {},
     "output_type": "execute_result"
    }
   ],
   "source": [
    "spikes1.shape"
   ]
  },
  {
   "cell_type": "code",
   "execution_count": 22,
   "metadata": {},
   "outputs": [
    {
     "data": {
      "text/plain": [
       "(3200, 31, 1280)"
      ]
     },
     "execution_count": 22,
     "metadata": {},
     "output_type": "execute_result"
    }
   ],
   "source": [
    "spikes2.shape"
   ]
  },
  {
   "cell_type": "markdown",
   "metadata": {},
   "source": [
    "### Now we check the fano factors across different trials of the same type"
   ]
  },
  {
   "cell_type": "code",
   "execution_count": 23,
   "metadata": {},
   "outputs": [],
   "source": [
    "stim_indices = {}\n",
    "for i in range(1, 9):\n",
    "    stim_indices[i] = np.where(stim == i)[0]"
   ]
  },
  {
   "cell_type": "code",
   "execution_count": 24,
   "metadata": {},
   "outputs": [
    {
     "name": "stdout",
     "output_type": "stream",
     "text": [
      "(3200, 97, 1280)\n",
      "(776,)\n",
      "(776,)\n"
     ]
    }
   ],
   "source": [
    "all_data = spikes1\n",
    "# all_data = spikes2\n",
    "print(all_data.shape)\n",
    "\n",
    "# Calculate the mean and variance of the spike counts for each neuron\n",
    "mean_spike_counts = []\n",
    "var_spike_counts = []\n",
    "\n",
    "for i in range(1,9):\n",
    "    mean_spike_counts.append(np.mean(np.sum(all_data[stim_indices[i], :, :], axis=2), axis=0))\n",
    "    var_spike_counts.append(np.var(np.sum(all_data[stim_indices[i], :, :], axis=2), axis=0))\n",
    "\n",
    "mean_spike_counts = np.array(mean_spike_counts).flatten()\n",
    "var_spike_counts = np.array(var_spike_counts).flatten()\n",
    "\n",
    "# mean_spike_counts = np.array(mean_spike_counts)\n",
    "# var_spike_counts = np.array(var_spike_counts)\n",
    "\n",
    "# print shapes\n",
    "print(mean_spike_counts.shape)\n",
    "print(var_spike_counts.shape)"
   ]
  },
  {
   "cell_type": "code",
   "execution_count": 30,
   "metadata": {},
   "outputs": [
    {
     "data": {
      "image/png": "[encoded data removed]",
      "text/plain": [
       "<Figure size 432x288 with 1 Axes>"
      ]
     },
     "metadata": {
      "needs_background": "light"
     },
     "output_type": "display_data"
    }
   ],
   "source": [
    "# scatter plot of mean on x axis and variance on y axis alomg with the line y=x in loglog\n",
    "# for i in range(2):\n",
    "#     plt.scatter(mean_spike_counts[i], var_spike_counts[i], s=0.5)  # Reduced point size\n",
    "plt.scatter(mean_spike_counts, var_spike_counts, s=0.5)  # Reduced point size\n",
    "plt.xscale('log')\n",
    "plt.yscale('log')\n",
    "plt.plot([0.1, 1000], [0.1, 1000], '--k')\n",
    "plt.xlim(0.1, 1000)\n",
    "plt.ylim(0.1, 1000)\n",
    "plt.xlabel('Mean Spike Counts')\n",
    "plt.ylabel('Variance Spike Counts')\n",
    "plt.show()"
   ]
  },
  {
   "cell_type": "code",
   "execution_count": 31,
   "metadata": {},
   "outputs": [
    {
     "data": {
      "image/png": "[encoded data removed]",
      "text/plain": [
       "<Figure size 432x288 with 1 Axes>"
      ]
     },
     "metadata": {
      "needs_background": "light"
     },
     "output_type": "display_data"
    }
   ],
   "source": [
    "# calculate and plot the probability density of fano factors\n",
    "fano_factors = var_spike_counts / mean_spike_counts\n",
    "plt.hist(fano_factors, bins=100, density=True)\n",
    "plt.xlabel('Fano Factors')\n",
    "plt.ylabel('Probability Density')\n",
    "plt.show()"
   ]
  },
  {
   "cell_type": "code",
   "execution_count": 27,
   "metadata": {},
   "outputs": [
    {
     "name": "stdout",
     "output_type": "stream",
     "text": [
      "2.16282938993717\n",
      "2.026762668231665\n"
     ]
    }
   ],
   "source": [
    "# print the mean of fano factors\n",
    "print(np.mean(fano_factors))\n",
    "\n",
    "# print the geometric mean of fano factors\n",
    "print(np.exp(np.mean(np.log(fano_factors))))"
   ]
  },
  {
   "cell_type": "markdown",
   "metadata": {},
   "source": [
    "### Now we try calculating the Fano factor by dividing the time series into a single window"
   ]
  },
  {
   "cell_type": "code",
   "execution_count": 28,
   "metadata": {},
   "outputs": [
    {
     "ename": "IndexError",
     "evalue": "index 141 is out of bounds for axis 1 with size 97",
     "output_type": "error",
     "traceback": [
      "\u001b[0;31m---------------------------------------------------------------------------\u001b[0m",
      "\u001b[0;31mIndexError\u001b[0m                                Traceback (most recent call last)",
      "Cell \u001b[0;32mIn[28], line 4\u001b[0m\n\u001b[1;32m      1\u001b[0m neuron_idx \u001b[38;5;241m=\u001b[39m \u001b[38;5;241m141\u001b[39m\n\u001b[1;32m      2\u001b[0m stimulus_idx \u001b[38;5;241m=\u001b[39m \u001b[38;5;241m1\u001b[39m\n\u001b[0;32m----> 4\u001b[0m spike_count_Test \u001b[38;5;241m=\u001b[39m np\u001b[38;5;241m.\u001b[39msum(all_data[stim_indices[stimulus_idx], :, :], axis\u001b[38;5;241m=\u001b[39m\u001b[38;5;241m2\u001b[39m)[:, neuron_idx]\n\u001b[1;32m      6\u001b[0m \u001b[38;5;66;03m# make a histogram of spike counts\u001b[39;00m\n\u001b[1;32m      7\u001b[0m plt\u001b[38;5;241m.\u001b[39mhist(spike_count_Test, bins\u001b[38;5;241m=\u001b[39m\u001b[38;5;241m20\u001b[39m, density\u001b[38;5;241m=\u001b[39m\u001b[38;5;28;01mTrue\u001b[39;00m)\n",
      "\u001b[0;31mIndexError\u001b[0m: index 141 is out of bounds for axis 1 with size 97"
     ]
    }
   ],
   "source": [
    "neuron_idx = 141\n",
    "stimulus_idx = 1\n",
    "\n",
    "spike_count_Test = np.sum(all_data[stim_indices[stimulus_idx], :, :], axis=2)[:, neuron_idx]\n",
    "\n",
    "# make a histogram of spike counts\n",
    "plt.hist(spike_count_Test, bins=20, density=True)\n",
    "plt.xlabel('Spike Counts')\n",
    "plt.ylabel('Probability Density')\n",
    "plt.show()\n"
   ]
  },
  {
   "cell_type": "code",
   "execution_count": null,
   "metadata": {},
   "outputs": [],
   "source": []
  },
  {
   "cell_type": "code",
   "execution_count": null,
   "metadata": {},
   "outputs": [],
   "source": []
  },
  {
   "cell_type": "code",
   "execution_count": null,
   "metadata": {},
   "outputs": [],
   "source": []
  },
  {
   "cell_type": "code",
   "execution_count": null,
   "metadata": {},
   "outputs": [],
   "source": []
  },
  {
   "cell_type": "code",
   "execution_count": null,
   "metadata": {},
   "outputs": [],
   "source": []
  }
 ],
 "metadata": {
  "kernelspec": {
   "display_name": "conda-fr-whistler",
   "language": "python",
   "name": "python3"
  },
  "language_info": {
   "codemirror_mode": {
    "name": "ipython",
    "version": 3
   },
   "file_extension": ".py",
   "mimetype": "text/x-python",
   "name": "python",
   "nbconvert_exporter": "python",
   "pygments_lexer": "ipython3",
   "version": "3.11.4"
  }
 },
 "nbformat": 4,
 "nbformat_minor": 2
}
